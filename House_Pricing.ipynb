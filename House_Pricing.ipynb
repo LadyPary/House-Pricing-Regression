{
  "nbformat": 4,
  "nbformat_minor": 0,
  "metadata": {
    "colab": {
      "name": "House Pricing.ipynb",
      "provenance": [],
      "collapsed_sections": [],
      "include_colab_link": true
    },
    "kernelspec": {
      "name": "python3",
      "display_name": "Python 3"
    },
    "language_info": {
      "name": "python"
    }
  },
  "cells": [
    {
      "cell_type": "markdown",
      "metadata": {
        "id": "view-in-github",
        "colab_type": "text"
      },
      "source": [
        "<a href=\"https://colab.research.google.com/github/LadyPary/HousePricingPrediction/blob/main/House_Pricing.ipynb\" target=\"_parent\"><img src=\"https://colab.research.google.com/assets/colab-badge.svg\" alt=\"Open In Colab\"/></a>"
      ]
    },
    {
      "cell_type": "markdown",
      "metadata": {
        "id": "Q6XHqrhreLJq"
      },
      "source": [
        "# **<center> House Pricing Prediction Using Regression  </center>**\n",
        "\n",
        "##### <center>Zahra Rabbany Khorasgani</center>\n",
        "<center>610398124</center>\n",
        "<center>parisa.rabbany.pr@gmail.com</center>\n",
        "\n",
        "##### <center>Department of Computer Science, Tehran University</center>\n",
        "\n",
        "##### <center> Statistical Methods </center>\n",
        "\n",
        "##### <center>Prof. Hasan Misaii </center>\n",
        "\n",
        "##### <center>Jul. 16, 2021</center>\n",
        "\n",
        "\n"
      ]
    },
    {
      "cell_type": "markdown",
      "metadata": {
        "id": "JrIKrph_oz3V"
      },
      "source": [
        "[Link to this online interactive notebook on Google Colab.](https://colab.research.google.com/drive/1yHmt06ZM54h1oL8lUr6Vf0aG0XXeHaNz?usp=sharing)"
      ]
    },
    {
      "cell_type": "markdown",
      "metadata": {
        "id": "dhA0QlbFf21y"
      },
      "source": [
        "**Goal**: Predicting the sales price for each house using the predictor variables.\n"
      ]
    },
    {
      "cell_type": "markdown",
      "metadata": {
        "id": "G5-KGrrDcL5M"
      },
      "source": [
        "# **1. Data  Eploration**\n",
        "In this section we first load the train and test datasets, then explore the data and summarize their characteristics."
      ]
    },
    {
      "cell_type": "code",
      "metadata": {
        "id": "o0N_PWINHLrp"
      },
      "source": [
        "# importing basic common libraries\n",
        "import math \n",
        "import numpy as np\n",
        "import pandas as pd\n",
        "import sklearn\n",
        "import matplotlib as mpl\n",
        "import matplotlib.pyplot as plt\n",
        "from IPython.display import Markdown, display"
      ],
      "execution_count": null,
      "outputs": []
    },
    {
      "cell_type": "code",
      "metadata": {
        "id": "yexdkCblHDB_"
      },
      "source": [
        "# loading data\n",
        "def load_data(train = True): \n",
        "  ''' Returns train or test data ''' \n",
        "  if train: \n",
        "    df = pd.read_csv('https://raw.githubusercontent.com/LadyPary/HousePricingRegression/main/train.csv')\n",
        "  else:\n",
        "    df = pd.read_csv('https://raw.githubusercontent.com/LadyPary/HousePricingRegression/main/test1.csv')\n",
        "  return df\n"
      ],
      "execution_count": null,
      "outputs": []
    },
    {
      "cell_type": "markdown",
      "metadata": {
        "id": "rX9n7A7Achz3"
      },
      "source": [
        "## 1.1. Data Description"
      ]
    },
    {
      "cell_type": "code",
      "metadata": {
        "id": "sT1ayRKvI6Km"
      },
      "source": [
        "def data_explore(df): \n",
        "  ''' returns information about the input dataframe '''\n",
        "  \n",
        "  display(Markdown(\"##**What does the dataframe look like? First few lines of dataframe:**\"))\n",
        "  print(df.head(), \"\\n\") # what does the dataframe look like?\n",
        "  display(Markdown('---'))\n",
        "\n",
        "  display(Markdown(\"**Size of the Dataset:**\"))\n",
        "  print(df.shape, \"\\n\") # what's size of the dataset? (how many instances we have)\n",
        "  display(Markdown('---'))\n",
        "\n",
        "  display(Markdown(\"**Dataframe Columns:**\"))\n",
        "  print(df.columns, \"\\n\") # what are the columns (features) \n",
        "  display(Markdown('---'))\n",
        "\n",
        "  display(Markdown(\"**Type of Each Column:**\"))\n",
        "  print(df.info(), \"\\n\" )\n",
        "  display(Markdown('---'))\n",
        "\n",
        "  display(Markdown(\"##**Summary of Features :**\"))\n",
        "  display(Markdown(\"**Numerical Columns/Features :**\"))\n",
        "  print(df.describe(),\"\\n\") # summary of each feature\n",
        "  display(Markdown(\"**Categorical Columns/Feature:**\"))\n",
        "  print(df[[\"MSZoning\", \"SaleCondition\"]].describe(),\"\\n\")\n",
        "  display(Markdown('---'))\n",
        "\n",
        "  display(Markdown(\"##**Unique Values of Each Categorical Column and Their Counts:**\"))\n",
        "  display(Markdown(\"**Unique Values of MSZoning:**\"))\n",
        "  print(df[\"MSZoning\"].value_counts(),\"\\n\")\n",
        "  display(Markdown(\"**Unique Values of SaleCondition:**\"))\n",
        "  print(df[\"SaleCondition\"].value_counts(),\"\\n\")\n",
        "  display(Markdown('---'))\n",
        "\n",
        "  display(Markdown(\"**Number of Null Values in Dataframe:**\"))\n",
        "  print(\"Number of Null Values in Dataframe: \" )\n",
        "  print(df.isna().sum())\n",
        "\n",
        "  return\n"
      ],
      "execution_count": null,
      "outputs": []
    },
    {
      "cell_type": "markdown",
      "metadata": {
        "id": "YJKMC-cTqC6J"
      },
      "source": [
        "> Below is the insightful summary of the train data set."
      ]
    },
    {
      "cell_type": "code",
      "metadata": {
        "colab": {
          "base_uri": "https://localhost:8080/",
          "height": 1000
        },
        "id": "vXUc5-JqW5vL",
        "outputId": "a2af1dcd-cb9c-4af6-dc3a-bb69ad17c94f"
      },
      "source": [
        "# exploring the train dataset\n",
        "df_train = load_data()\n",
        "data_explore(df_train)"
      ],
      "execution_count": null,
      "outputs": [
        {
          "output_type": "display_data",
          "data": {
            "text/markdown": "##**What does the dataframe look like? First few lines of dataframe:**",
            "text/plain": [
              "<IPython.core.display.Markdown object>"
            ]
          },
          "metadata": {
            "tags": []
          }
        },
        {
          "output_type": "stream",
          "text": [
            "   Id  MSSubClass MSZoning  LotArea SaleCondition  SalePrice\n",
            "0   1          60       RL     8450        Normal     208500\n",
            "1   2          20       RL     9600        Normal     181500\n",
            "2   3          60       RL    11250        Normal     223500\n",
            "3   4          70       RL     9550       Abnorml     140000\n",
            "4   5          60       RL    14260        Normal     250000 \n",
            "\n"
          ],
          "name": "stdout"
        },
        {
          "output_type": "display_data",
          "data": {
            "text/markdown": "---",
            "text/plain": [
              "<IPython.core.display.Markdown object>"
            ]
          },
          "metadata": {
            "tags": []
          }
        },
        {
          "output_type": "display_data",
          "data": {
            "text/markdown": "**Size of the Dataset:**",
            "text/plain": [
              "<IPython.core.display.Markdown object>"
            ]
          },
          "metadata": {
            "tags": []
          }
        },
        {
          "output_type": "stream",
          "text": [
            "(1460, 6) \n",
            "\n"
          ],
          "name": "stdout"
        },
        {
          "output_type": "display_data",
          "data": {
            "text/markdown": "---",
            "text/plain": [
              "<IPython.core.display.Markdown object>"
            ]
          },
          "metadata": {
            "tags": []
          }
        },
        {
          "output_type": "display_data",
          "data": {
            "text/markdown": "**Dataframe Columns:**",
            "text/plain": [
              "<IPython.core.display.Markdown object>"
            ]
          },
          "metadata": {
            "tags": []
          }
        },
        {
          "output_type": "stream",
          "text": [
            "Index(['Id', 'MSSubClass', 'MSZoning', 'LotArea', 'SaleCondition',\n",
            "       'SalePrice'],\n",
            "      dtype='object') \n",
            "\n"
          ],
          "name": "stdout"
        },
        {
          "output_type": "display_data",
          "data": {
            "text/markdown": "---",
            "text/plain": [
              "<IPython.core.display.Markdown object>"
            ]
          },
          "metadata": {
            "tags": []
          }
        },
        {
          "output_type": "display_data",
          "data": {
            "text/markdown": "**Type of Each Column:**",
            "text/plain": [
              "<IPython.core.display.Markdown object>"
            ]
          },
          "metadata": {
            "tags": []
          }
        },
        {
          "output_type": "stream",
          "text": [
            "<class 'pandas.core.frame.DataFrame'>\n",
            "RangeIndex: 1460 entries, 0 to 1459\n",
            "Data columns (total 6 columns):\n",
            " #   Column         Non-Null Count  Dtype \n",
            "---  ------         --------------  ----- \n",
            " 0   Id             1460 non-null   int64 \n",
            " 1   MSSubClass     1460 non-null   int64 \n",
            " 2   MSZoning       1460 non-null   object\n",
            " 3   LotArea        1460 non-null   int64 \n",
            " 4   SaleCondition  1460 non-null   object\n",
            " 5   SalePrice      1460 non-null   int64 \n",
            "dtypes: int64(4), object(2)\n",
            "memory usage: 68.6+ KB\n",
            "None \n",
            "\n"
          ],
          "name": "stdout"
        },
        {
          "output_type": "display_data",
          "data": {
            "text/markdown": "---",
            "text/plain": [
              "<IPython.core.display.Markdown object>"
            ]
          },
          "metadata": {
            "tags": []
          }
        },
        {
          "output_type": "display_data",
          "data": {
            "text/markdown": "##**Summary of Features :**",
            "text/plain": [
              "<IPython.core.display.Markdown object>"
            ]
          },
          "metadata": {
            "tags": []
          }
        },
        {
          "output_type": "display_data",
          "data": {
            "text/markdown": "**Numerical Columns/Features :**",
            "text/plain": [
              "<IPython.core.display.Markdown object>"
            ]
          },
          "metadata": {
            "tags": []
          }
        },
        {
          "output_type": "stream",
          "text": [
            "                Id   MSSubClass        LotArea      SalePrice\n",
            "count  1460.000000  1460.000000    1460.000000    1460.000000\n",
            "mean    730.500000    56.897260   10516.828082  180921.195890\n",
            "std     421.610009    42.300571    9981.264932   79442.502883\n",
            "min       1.000000    20.000000    1300.000000   34900.000000\n",
            "25%     365.750000    20.000000    7553.500000  129975.000000\n",
            "50%     730.500000    50.000000    9478.500000  163000.000000\n",
            "75%    1095.250000    70.000000   11601.500000  214000.000000\n",
            "max    1460.000000   190.000000  215245.000000  755000.000000 \n",
            "\n"
          ],
          "name": "stdout"
        },
        {
          "output_type": "display_data",
          "data": {
            "text/markdown": "**Categorical Columns/Feature:**",
            "text/plain": [
              "<IPython.core.display.Markdown object>"
            ]
          },
          "metadata": {
            "tags": []
          }
        },
        {
          "output_type": "stream",
          "text": [
            "       MSZoning SaleCondition\n",
            "count      1460          1460\n",
            "unique        5             6\n",
            "top          RL        Normal\n",
            "freq       1151          1198 \n",
            "\n"
          ],
          "name": "stdout"
        },
        {
          "output_type": "display_data",
          "data": {
            "text/markdown": "---",
            "text/plain": [
              "<IPython.core.display.Markdown object>"
            ]
          },
          "metadata": {
            "tags": []
          }
        },
        {
          "output_type": "display_data",
          "data": {
            "text/markdown": "##**Unique Values of Each Categorical Column and Their Counts:**",
            "text/plain": [
              "<IPython.core.display.Markdown object>"
            ]
          },
          "metadata": {
            "tags": []
          }
        },
        {
          "output_type": "display_data",
          "data": {
            "text/markdown": "**Unique Values of MSZoning:**",
            "text/plain": [
              "<IPython.core.display.Markdown object>"
            ]
          },
          "metadata": {
            "tags": []
          }
        },
        {
          "output_type": "stream",
          "text": [
            "RL         1151\n",
            "RM          218\n",
            "FV           65\n",
            "RH           16\n",
            "C (all)      10\n",
            "Name: MSZoning, dtype: int64 \n",
            "\n"
          ],
          "name": "stdout"
        },
        {
          "output_type": "display_data",
          "data": {
            "text/markdown": "**Unique Values of SaleCondition:**",
            "text/plain": [
              "<IPython.core.display.Markdown object>"
            ]
          },
          "metadata": {
            "tags": []
          }
        },
        {
          "output_type": "stream",
          "text": [
            "Normal     1198\n",
            "Partial     125\n",
            "Abnorml     101\n",
            "Family       20\n",
            "Alloca       12\n",
            "AdjLand       4\n",
            "Name: SaleCondition, dtype: int64 \n",
            "\n"
          ],
          "name": "stdout"
        },
        {
          "output_type": "display_data",
          "data": {
            "text/markdown": "---",
            "text/plain": [
              "<IPython.core.display.Markdown object>"
            ]
          },
          "metadata": {
            "tags": []
          }
        },
        {
          "output_type": "display_data",
          "data": {
            "text/markdown": "**Number of Null Values in Dataframe:**",
            "text/plain": [
              "<IPython.core.display.Markdown object>"
            ]
          },
          "metadata": {
            "tags": []
          }
        },
        {
          "output_type": "stream",
          "text": [
            "Number of Null Values in Dataframe: \n",
            "Id               0\n",
            "MSSubClass       0\n",
            "MSZoning         0\n",
            "LotArea          0\n",
            "SaleCondition    0\n",
            "SalePrice        0\n",
            "dtype: int64\n"
          ],
          "name": "stdout"
        }
      ]
    },
    {
      "cell_type": "markdown",
      "metadata": {
        "id": "dnFteRrRq_vY"
      },
      "source": [
        "> Below is the insightful summary of the test data set. We explore the test dataset (here and in the next step) to make sure features in train and test datasets dont have different distributions."
      ]
    },
    {
      "cell_type": "code",
      "metadata": {
        "colab": {
          "base_uri": "https://localhost:8080/",
          "height": 1000
        },
        "id": "5tYukK7pUjJy",
        "outputId": "04945f79-afbb-4cc7-93bf-71cdba6bf67a"
      },
      "source": [
        "# exploring the test dataset to make sure the train set is representetive of the test set\n",
        "df_test = load_data(train = False)\n",
        "data_explore(df_test)"
      ],
      "execution_count": null,
      "outputs": [
        {
          "output_type": "display_data",
          "data": {
            "text/markdown": "##**What does the dataframe look like? First few lines of dataframe:**",
            "text/plain": [
              "<IPython.core.display.Markdown object>"
            ]
          },
          "metadata": {
            "tags": []
          }
        },
        {
          "output_type": "stream",
          "text": [
            "   Unnamed: 0  Id  MSSubClass MSZoning  LotArea SaleCondition  SalePrice\n",
            "0           0  16          45       RM     6120        Normal     132000\n",
            "1           1  23          20       RL     9742        Normal     230000\n",
            "2           2  25          20       RL     8246        Normal     154000\n",
            "3           3  30          30       RM     6324        Normal      68500\n",
            "4           4  35         120       RL     7313        Normal     277500 \n",
            "\n"
          ],
          "name": "stdout"
        },
        {
          "output_type": "display_data",
          "data": {
            "text/markdown": "---",
            "text/plain": [
              "<IPython.core.display.Markdown object>"
            ]
          },
          "metadata": {
            "tags": []
          }
        },
        {
          "output_type": "display_data",
          "data": {
            "text/markdown": "**Size of the Dataset:**",
            "text/plain": [
              "<IPython.core.display.Markdown object>"
            ]
          },
          "metadata": {
            "tags": []
          }
        },
        {
          "output_type": "stream",
          "text": [
            "(191, 7) \n",
            "\n"
          ],
          "name": "stdout"
        },
        {
          "output_type": "display_data",
          "data": {
            "text/markdown": "---",
            "text/plain": [
              "<IPython.core.display.Markdown object>"
            ]
          },
          "metadata": {
            "tags": []
          }
        },
        {
          "output_type": "display_data",
          "data": {
            "text/markdown": "**Dataframe Columns:**",
            "text/plain": [
              "<IPython.core.display.Markdown object>"
            ]
          },
          "metadata": {
            "tags": []
          }
        },
        {
          "output_type": "stream",
          "text": [
            "Index(['Unnamed: 0', 'Id', 'MSSubClass', 'MSZoning', 'LotArea',\n",
            "       'SaleCondition', 'SalePrice'],\n",
            "      dtype='object') \n",
            "\n"
          ],
          "name": "stdout"
        },
        {
          "output_type": "display_data",
          "data": {
            "text/markdown": "---",
            "text/plain": [
              "<IPython.core.display.Markdown object>"
            ]
          },
          "metadata": {
            "tags": []
          }
        },
        {
          "output_type": "display_data",
          "data": {
            "text/markdown": "**Type of Each Column:**",
            "text/plain": [
              "<IPython.core.display.Markdown object>"
            ]
          },
          "metadata": {
            "tags": []
          }
        },
        {
          "output_type": "stream",
          "text": [
            "<class 'pandas.core.frame.DataFrame'>\n",
            "RangeIndex: 191 entries, 0 to 190\n",
            "Data columns (total 7 columns):\n",
            " #   Column         Non-Null Count  Dtype \n",
            "---  ------         --------------  ----- \n",
            " 0   Unnamed: 0     191 non-null    int64 \n",
            " 1   Id             191 non-null    int64 \n",
            " 2   MSSubClass     191 non-null    int64 \n",
            " 3   MSZoning       191 non-null    object\n",
            " 4   LotArea        191 non-null    int64 \n",
            " 5   SaleCondition  191 non-null    object\n",
            " 6   SalePrice      191 non-null    int64 \n",
            "dtypes: int64(5), object(2)\n",
            "memory usage: 10.6+ KB\n",
            "None \n",
            "\n"
          ],
          "name": "stdout"
        },
        {
          "output_type": "display_data",
          "data": {
            "text/markdown": "---",
            "text/plain": [
              "<IPython.core.display.Markdown object>"
            ]
          },
          "metadata": {
            "tags": []
          }
        },
        {
          "output_type": "display_data",
          "data": {
            "text/markdown": "##**Summary of Features :**",
            "text/plain": [
              "<IPython.core.display.Markdown object>"
            ]
          },
          "metadata": {
            "tags": []
          }
        },
        {
          "output_type": "display_data",
          "data": {
            "text/markdown": "**Numerical Columns/Features :**",
            "text/plain": [
              "<IPython.core.display.Markdown object>"
            ]
          },
          "metadata": {
            "tags": []
          }
        },
        {
          "output_type": "stream",
          "text": [
            "       Unnamed: 0           Id  MSSubClass        LotArea      SalePrice\n",
            "count    191.0000   191.000000  191.000000     191.000000     191.000000\n",
            "mean      95.0000   733.041885   60.445026   11090.502618  182581.209424\n",
            "std       55.2811   425.509698   44.758838   14298.710888   79571.133711\n",
            "min        0.0000    16.000000   20.000000    1300.000000   64500.000000\n",
            "25%       47.5000   360.000000   20.000000    7200.000000  131750.000000\n",
            "50%       95.0000   717.000000   60.000000    9600.000000  162500.000000\n",
            "75%      142.5000  1107.500000   80.000000   11520.500000  210900.000000\n",
            "max      190.0000  1453.000000  190.000000  159000.000000  555000.000000 \n",
            "\n"
          ],
          "name": "stdout"
        },
        {
          "output_type": "display_data",
          "data": {
            "text/markdown": "**Categorical Columns/Feature:**",
            "text/plain": [
              "<IPython.core.display.Markdown object>"
            ]
          },
          "metadata": {
            "tags": []
          }
        },
        {
          "output_type": "stream",
          "text": [
            "       MSZoning SaleCondition\n",
            "count       191           191\n",
            "unique        5             6\n",
            "top          RL        Normal\n",
            "freq        151           150 \n",
            "\n"
          ],
          "name": "stdout"
        },
        {
          "output_type": "display_data",
          "data": {
            "text/markdown": "---",
            "text/plain": [
              "<IPython.core.display.Markdown object>"
            ]
          },
          "metadata": {
            "tags": []
          }
        },
        {
          "output_type": "display_data",
          "data": {
            "text/markdown": "##**Unique Values of Each Categorical Column and Their Counts:**",
            "text/plain": [
              "<IPython.core.display.Markdown object>"
            ]
          },
          "metadata": {
            "tags": []
          }
        },
        {
          "output_type": "display_data",
          "data": {
            "text/markdown": "**Unique Values of MSZoning:**",
            "text/plain": [
              "<IPython.core.display.Markdown object>"
            ]
          },
          "metadata": {
            "tags": []
          }
        },
        {
          "output_type": "stream",
          "text": [
            "RL         151\n",
            "RM          28\n",
            "FV           6\n",
            "RH           5\n",
            "C (all)      1\n",
            "Name: MSZoning, dtype: int64 \n",
            "\n"
          ],
          "name": "stdout"
        },
        {
          "output_type": "display_data",
          "data": {
            "text/markdown": "**Unique Values of SaleCondition:**",
            "text/plain": [
              "<IPython.core.display.Markdown object>"
            ]
          },
          "metadata": {
            "tags": []
          }
        },
        {
          "output_type": "stream",
          "text": [
            "Normal     150\n",
            "Partial     19\n",
            "Abnorml     17\n",
            "Family       3\n",
            "Alloca       1\n",
            "AdjLand      1\n",
            "Name: SaleCondition, dtype: int64 \n",
            "\n"
          ],
          "name": "stdout"
        },
        {
          "output_type": "display_data",
          "data": {
            "text/markdown": "---",
            "text/plain": [
              "<IPython.core.display.Markdown object>"
            ]
          },
          "metadata": {
            "tags": []
          }
        },
        {
          "output_type": "display_data",
          "data": {
            "text/markdown": "**Number of Null Values in Dataframe:**",
            "text/plain": [
              "<IPython.core.display.Markdown object>"
            ]
          },
          "metadata": {
            "tags": []
          }
        },
        {
          "output_type": "stream",
          "text": [
            "Number of Null Values in Dataframe: \n",
            "Unnamed: 0       0\n",
            "Id               0\n",
            "MSSubClass       0\n",
            "MSZoning         0\n",
            "LotArea          0\n",
            "SaleCondition    0\n",
            "SalePrice        0\n",
            "dtype: int64\n"
          ],
          "name": "stdout"
        }
      ]
    },
    {
      "cell_type": "markdown",
      "metadata": {
        "id": "mPMMDyjpOOfc"
      },
      "source": [
        "> Key Notes:\n",
        "1. Test dataset has a column named \"Unnamed\" which is a copy of row number col (index) and should be dropped in the preprocessing step. \n",
        "2. There are 2 categorical features, **MSZoning** and **SaleCondition**. We need to use One-Hot Encoding (dummy variables) for these two in the preprocessing step.\n",
        "3. Both train and test datasets don't have any Null values.\n",
        "4. Categorical columns in both train and test datasets have the same unique values which ensures us that the One-Hot Encoding would work fine."
      ]
    },
    {
      "cell_type": "markdown",
      "metadata": {
        "id": "59q3h6wI-awH"
      },
      "source": [
        "# **2. Data Analysis**\n",
        "In this section we first visualize the data using histograms, then compute the Pearson correlation for each pair of variables.\n",
        "After that we plot the scatter matrix and boxplots to further our understanding on this dataset."
      ]
    },
    {
      "cell_type": "markdown",
      "metadata": {
        "id": "MEQygXJK-gSr"
      },
      "source": [
        "## 2.1. Data Visualization"
      ]
    },
    {
      "cell_type": "code",
      "metadata": {
        "id": "vQ5QuAbRX_ov"
      },
      "source": [
        "%matplotlib inline\n",
        "\n",
        "def histogram(df):\n",
        "  df.hist(bins=50, figsize=(20,15))\n",
        "  #save_fig(\"attribute_histogram_plots\")\n",
        "  plt.show()\n",
        "  return\n",
        "\n",
        "# dropping the columns we doent need\n",
        "df_train.drop(['Id'], axis = 1, inplace=True) \n",
        "df_test.drop(['Unnamed: 0' , 'Id'], axis = 1, inplace=True)\n"
      ],
      "execution_count": null,
      "outputs": []
    },
    {
      "cell_type": "code",
      "metadata": {
        "colab": {
          "base_uri": "https://localhost:8080/",
          "height": 936
        },
        "id": "v1fUmhpIp1sm",
        "outputId": "a9a128af-5542-418f-d5bf-55aea715ab23"
      },
      "source": [
        "# histograms for train dataset\n",
        "\n",
        "display(Markdown(\"#**<center>Histograms for the *train* dataset**\"))\n",
        "histogram(df_train)\n"
      ],
      "execution_count": null,
      "outputs": [
        {
          "output_type": "display_data",
          "data": {
            "text/markdown": "#**<center>Histograms for the *train* dataset**",
            "text/plain": [
              "<IPython.core.display.Markdown object>"
            ]
          },
          "metadata": {
            "tags": []
          }
        },
        {
          "output_type": "display_data",
          "data": {
            "image/png": "[encoded data removed]",
            "text/plain": [
              "<Figure size 1440x1080 with 4 Axes>"
            ]
          },
          "metadata": {
            "tags": [],
            "needs_background": "light"
          }
        }
      ]
    },
    {
      "cell_type": "code",
      "metadata": {
        "id": "9ysbWQXrp4Xx",
        "colab": {
          "base_uri": "https://localhost:8080/",
          "height": 936
        },
        "outputId": "3c960718-abd3-4acb-d4ce-8d7e0fb7d06f"
      },
      "source": [
        "# histograms for test dataset\n",
        "display(Markdown(\"#**<center>Histograms for the *test* dataset**\"))\n",
        "histogram(df_test)"
      ],
      "execution_count": null,
      "outputs": [
        {
          "output_type": "display_data",
          "data": {
            "text/markdown": "#**<center>Histograms for the *test* dataset**",
            "text/plain": [
              "<IPython.core.display.Markdown object>"
            ]
          },
          "metadata": {
            "tags": []
          }
        },
        {
          "output_type": "display_data",
          "data": {
            "image/png": "[encoded data removed]",
            "text/plain": [
              "<Figure size 1440x1080 with 4 Axes>"
            ]
          },
          "metadata": {
            "tags": [],
            "needs_background": "light"
          }
        }
      ]
    },
    {
      "cell_type": "markdown",
      "metadata": {
        "id": "qJWNUeITvFN7"
      },
      "source": [
        "> What we can see in above histograms is that features don't follow a normal distribution and display a right-skewed distribution! Also, variables of train and test dataset represent similar distributions."
      ]
    },
    {
      "cell_type": "markdown",
      "metadata": {
        "id": "o5E78_l8-uR6"
      },
      "source": [
        "## 2.2. Correlations \n",
        "We look for possible correlations between our variables with the use of Pearson correlation coefficient and visualisation.\n",
        "\n",
        "\n"
      ]
    },
    {
      "cell_type": "code",
      "metadata": {
        "id": "l4q2_AbWu0fr",
        "colab": {
          "base_uri": "https://localhost:8080/",
          "height": 680
        },
        "outputId": "41840629-337c-4cb7-d91d-e3f5c4df2bf1"
      },
      "source": [
        "from pandas.plotting import scatter_matrix\n",
        "\n",
        "def plot_cor(df): \n",
        "  ''' Returns the correlation plots of a dataframe '''\n",
        "  corr_matrix = df.corr()\n",
        "  print(corr_matrix)\n",
        "  attributes = df.columns\n",
        "  scatter_matrix(df[attributes], figsize=(12, 8))\n",
        "  return\n",
        "display(Markdown(\"##**<center>Pairwise Coefficients of Correlation Between Features**\"))\n",
        "\n",
        "plot_cor(df_train)\n",
        "display(Markdown(\"##**<center>Pairwise Plots of Correlation Between Features**\"))\n"
      ],
      "execution_count": null,
      "outputs": [
        {
          "output_type": "display_data",
          "data": {
            "text/markdown": "##**<center>Pairwise Coefficients of Correlation Between Features**",
            "text/plain": [
              "<IPython.core.display.Markdown object>"
            ]
          },
          "metadata": {
            "tags": []
          }
        },
        {
          "output_type": "stream",
          "text": [
            "            MSSubClass   LotArea  SalePrice\n",
            "MSSubClass    1.000000 -0.139781  -0.084284\n",
            "LotArea      -0.139781  1.000000   0.263843\n",
            "SalePrice    -0.084284  0.263843   1.000000\n"
          ],
          "name": "stdout"
        },
        {
          "output_type": "display_data",
          "data": {
            "text/markdown": "##**<center>Pairwise Plots of Correlation Between Features**",
            "text/plain": [
              "<IPython.core.display.Markdown object>"
            ]
          },
          "metadata": {
            "tags": []
          }
        },
        {
          "output_type": "display_data",
          "data": {
            "image/png": "[encoded data removed]",
            "text/plain": [
              "<Figure size 864x576 with 9 Axes>"
            ]
          },
          "metadata": {
            "tags": [],
            "needs_background": "light"
          }
        }
      ]
    },
    {
      "cell_type": "markdown",
      "metadata": {
        "id": "3M-I6DUuz77W"
      },
      "source": [
        "> As we can see the coefficients of correlation between **MSSubClass** and **SalePrice** is very close to zero (-0.084284), so this feature might not have a predictive power and could be dropped in the preprocessing step. However, we keep this variable (as we have a very few dependent variables) and will determine the predictive power of this variable in the next steps with feature importance function."
      ]
    },
    {
      "cell_type": "code",
      "metadata": {
        "id": "SOSqctkuvRqn",
        "colab": {
          "base_uri": "https://localhost:8080/",
          "height": 1000
        },
        "outputId": "1fb01169-895b-40a8-d6d4-bbcf039bae66"
      },
      "source": [
        "def plot_scatter(df,x): \n",
        "  ''' x is the feature '''\n",
        "  df.plot(kind=\"scatter\", x=x, y=\"SalePrice\")\n",
        "  return\n",
        "  \n",
        "for i in df_train.columns:\n",
        "  plot_scatter(df_train,i)\n",
        "\n",
        "display(Markdown(\"##**<center>Scatter Plots of SalePrice vs Independent Variables**\"))\n"
      ],
      "execution_count": null,
      "outputs": [
        {
          "output_type": "display_data",
          "data": {
            "text/markdown": "##**<center>Scatter Plots of SalePrice vs Independent Variables**",
            "text/plain": [
              "<IPython.core.display.Markdown object>"
            ]
          },
          "metadata": {
            "tags": []
          }
        },
        {
          "output_type": "display_data",
          "data": {
            "image/png": "[encoded data removed]",
            "text/plain": [
              "<Figure size 432x288 with 1 Axes>"
            ]
          },
          "metadata": {
            "tags": [],
            "needs_background": "light"
          }
        },
        {
          "output_type": "display_data",
          "data": {
            "image/png": "[encoded data removed]",
            "text/plain": [
              "<Figure size 432x288 with 1 Axes>"
            ]
          },
          "metadata": {
            "tags": [],
            "needs_background": "light"
          }
        },
        {
          "output_type": "display_data",
          "data": {
            "image/png": "[encoded data removed]",
            "text/plain": [
              "<Figure size 432x288 with 1 Axes>"
            ]
          },
          "metadata": {
            "tags": [],
            "needs_background": "light"
          }
        },
        {
          "output_type": "display_data",
          "data": {
            "image/png": "[encoded data removed]",
            "text/plain": [
              "<Figure size 432x288 with 1 Axes>"
            ]
          },
          "metadata": {
            "tags": [],
            "needs_background": "light"
          }
        },
        {
          "output_type": "display_data",
          "data": {
            "image/png": "[encoded data removed]",
            "text/plain": [
              "<Figure size 432x288 with 1 Axes>"
            ]
          },
          "metadata": {
            "tags": [],
            "needs_background": "light"
          }
        }
      ]
    },
    {
      "cell_type": "markdown",
      "metadata": {
        "id": "xbOQ9iPzz9s0"
      },
      "source": [
        "> We cannot see a linear relation between sales price and other variables in above plots. Thus it comes to mind that linear regression might not be the best model for this prediction."
      ]
    },
    {
      "cell_type": "markdown",
      "metadata": {
        "id": "i3KYh6nkcp20"
      },
      "source": [
        "## 2.4. Data Preprocessing\n",
        "Data preprocessing is an important step in the data mining and machine learning process. \n",
        "\n",
        "As they say **\"garbage in, garbage out\"** \n",
        "\n",
        "We *clean* our data by:\n",
        "\n",
        "1.   Looking for and handling **missing values** if there are any.\n",
        "2.   Looking for and handling **outliers** if there are any.\n",
        "2.   Encoding **categorical values**.\n",
        "3.   **Scalling** the features.\n"
      ]
    },
    {
      "cell_type": "markdown",
      "metadata": {
        "id": "PkKGouc59kj3"
      },
      "source": [
        "#### 2.4.1 Handling Missing values"
      ]
    },
    {
      "cell_type": "code",
      "metadata": {
        "id": "hgQlI40L0uyJ",
        "colab": {
          "base_uri": "https://localhost:8080/"
        },
        "outputId": "bc450217-b526-40af-c23b-dabf9c4db860"
      },
      "source": [
        "# handeling null values if there's any\n",
        "sample_incomplete_rows = df_train[df_train.isnull().any(axis=1)].head() # checking for Null values again!\n",
        "print(sample_incomplete_rows) # no Null"
      ],
      "execution_count": null,
      "outputs": [
        {
          "output_type": "stream",
          "text": [
            "Empty DataFrame\n",
            "Columns: [MSSubClass, MSZoning, LotArea, SaleCondition, SalePrice]\n",
            "Index: []\n"
          ],
          "name": "stdout"
        }
      ]
    },
    {
      "cell_type": "markdown",
      "metadata": {
        "id": "vosX7awC76lz"
      },
      "source": [
        "> There is no Null value in our train dataset, but if there was we would handle it using one of the below methods:\n",
        "1. Deleting Rows (not recommended because of the loss of information and data, especially when we dont have a large dataset),\n",
        "2. Replacing With Mean/Median/Mode\n",
        "3. Assigning An Unique Category,\n",
        "4. Predicting The Missing Values, or\n",
        "5. Using Algorithms Which Support and handle Missing Values like tree based algorithms.\n",
        "\n",
        "\n",
        "\n",
        "\n",
        "\n"
      ]
    },
    {
      "cell_type": "markdown",
      "metadata": {
        "id": "oyh-5KBg2nHm"
      },
      "source": [
        "#### 2.4.2 Dropping Outliers\n",
        "We use boxplot to check for outliers. When reviewing a box plot, an outlier is defined as a data point that is located outside the whiskers of the box plot."
      ]
    },
    {
      "cell_type": "code",
      "metadata": {
        "id": "LPGWrWRCSWOV",
        "colab": {
          "base_uri": "https://localhost:8080/",
          "height": 312
        },
        "outputId": "9ad19919-0ee1-4c9e-9633-ae820a2042f9"
      },
      "source": [
        "# finding outliers using boxplots\n",
        "\n",
        "df_train = load_data()\n",
        "df_train.boxplot(column=[\"MSSubClass\"])\n",
        "display(Markdown(\"##**<center>Outliers in MSSubClass**\"))\n"
      ],
      "execution_count": null,
      "outputs": [
        {
          "output_type": "display_data",
          "data": {
            "text/markdown": "##**<center>Outliers in MSSubClass**",
            "text/plain": [
              "<IPython.core.display.Markdown object>"
            ]
          },
          "metadata": {
            "tags": []
          }
        },
        {
          "output_type": "display_data",
          "data": {
            "image/png": "[encoded data removed]",
            "text/plain": [
              "<Figure size 432x288 with 1 Axes>"
            ]
          },
          "metadata": {
            "tags": [],
            "needs_background": "light"
          }
        }
      ]
    },
    {
      "cell_type": "code",
      "metadata": {
        "id": "RcAG0SSaTnSK",
        "colab": {
          "base_uri": "https://localhost:8080/",
          "height": 312
        },
        "outputId": "dba55a52-d15c-4046-d9a5-d53cbf857363"
      },
      "source": [
        "df_train.boxplot(column=[\"LotArea\"])\n",
        "display(Markdown(\"##**<center>Outliers in LotArea**\"))\n"
      ],
      "execution_count": null,
      "outputs": [
        {
          "output_type": "display_data",
          "data": {
            "text/markdown": "##**<center>Outliers in LotArea**",
            "text/plain": [
              "<IPython.core.display.Markdown object>"
            ]
          },
          "metadata": {
            "tags": []
          }
        },
        {
          "output_type": "display_data",
          "data": {
            "image/png": "[encoded data removed]",
            "text/plain": [
              "<Figure size 432x288 with 1 Axes>"
            ]
          },
          "metadata": {
            "tags": [],
            "needs_background": "light"
          }
        }
      ]
    },
    {
      "cell_type": "code",
      "metadata": {
        "id": "WhI0OQG3Tps_",
        "colab": {
          "base_uri": "https://localhost:8080/",
          "height": 312
        },
        "outputId": "4d953d5d-3376-4c01-ac83-cd9e1d5df0e6"
      },
      "source": [
        "df_train.boxplot(column=[\"SalePrice\"])\n",
        "display(Markdown(\"##**<center>Outliers in SalePrice**\"))\n"
      ],
      "execution_count": null,
      "outputs": [
        {
          "output_type": "display_data",
          "data": {
            "text/markdown": "##**<center>Outliers in SalePrice**",
            "text/plain": [
              "<IPython.core.display.Markdown object>"
            ]
          },
          "metadata": {
            "tags": []
          }
        },
        {
          "output_type": "display_data",
          "data": {
            "image/png": "[encoded data removed]",
            "text/plain": [
              "<Figure size 432x288 with 1 Axes>"
            ]
          },
          "metadata": {
            "tags": [],
            "needs_background": "light"
          }
        }
      ]
    },
    {
      "cell_type": "code",
      "metadata": {
        "id": "HGQkiXWz6Fd2",
        "colab": {
          "base_uri": "https://localhost:8080/",
          "height": 312
        },
        "outputId": "a15c6c1c-52a1-4816-b749-6b43ce583b8b"
      },
      "source": [
        "df_test.boxplot(column=[\"SalePrice\"])\n",
        "display(Markdown(\"##**<center>Outliers in SalePrice of the Test Dataset**\"))\n"
      ],
      "execution_count": null,
      "outputs": [
        {
          "output_type": "display_data",
          "data": {
            "text/markdown": "##**<center>Outliers in SalePrice of the Test Dataset**",
            "text/plain": [
              "<IPython.core.display.Markdown object>"
            ]
          },
          "metadata": {
            "tags": []
          }
        },
        {
          "output_type": "display_data",
          "data": {
            "image/png": "[encoded data removed]",
            "text/plain": [
              "<Figure size 432x288 with 1 Axes>"
            ]
          },
          "metadata": {
            "tags": [],
            "needs_background": "light"
          }
        }
      ]
    },
    {
      "cell_type": "markdown",
      "metadata": {
        "id": "r8dLPj8D-jNI"
      },
      "source": [
        "\n",
        "\n",
        "> If there are outliers in the data, they should not be removed or ignored without a good reason. Whatever final model is fit to the data would not be very helpful if it ignores the most exceptional cases. Since we have considerable number of outliers in the test dataset, removing the outliers from the train dataset would harm the predictor model.\n",
        "\n",
        "\n",
        "\n"
      ]
    },
    {
      "cell_type": "markdown",
      "metadata": {
        "id": "1dLOhtZa-JO3"
      },
      "source": [
        "#### 2.4.3 Encoding categorical values\n"
      ]
    },
    {
      "cell_type": "markdown",
      "metadata": {
        "id": "Te1OSIrv_VOE"
      },
      "source": [
        "In many Machine-learning or Data Science activities, the data set might contain text or categorical values. Few algorithms such as can handle categorical values very well but most of the algorithms expect numerical values to achieve the reliable results.\n",
        "\n",
        "We use the **dummy variables** which is a numerical variable used in regression analysis to represent subgroups of the sample in the study. \n"
      ]
    },
    {
      "cell_type": "code",
      "metadata": {
        "id": "ClJqFUng3XQz"
      },
      "source": [
        "# handeling categorical values\n",
        "\n",
        "def encoding(df):\n",
        "  dft = df\n",
        "  MSZoning = pd.get_dummies(dft['MSZoning']) # using dummy variables for MSZoning and SaleCondition\n",
        "  SaleCondition = pd.get_dummies(dft['SaleCondition'])\n",
        "  dft = pd.concat([MSZoning, SaleCondition,dft], axis=1)\n",
        "  dft.drop(columns=['MSZoning','SaleCondition'], inplace=True)  \n",
        "  dft.columns\n",
        "  return dft"
      ],
      "execution_count": null,
      "outputs": []
    },
    {
      "cell_type": "markdown",
      "metadata": {
        "id": "lXlu1I5P-T9S"
      },
      "source": [
        "#### 2.4.4 Scalling the Features\n",
        "\n",
        "Machine learning algorithms like linear regression, logistic regression, neural network, etc. that use gradient descent as an optimization technique require data to be scaled. Having features on a similar scale can help the gradient descent converge more quickly towards the minima. tree-based algorithms on the other hand, are fairly insensitive to the scale of the features.\n",
        "\n",
        "There are two ways for feature scaling:\n",
        "\n",
        "1. Normalization *(MinMaxScaler)*\n",
        "\n",
        "  $ X'=\\frac{X-X_{min}}{X_{max} -X_{min}} $\n",
        "\n",
        "2. Standardization *(StandardScaler)*\n",
        "\n",
        "  $X'=\\frac{X-\\mu }{\\sigma }$\n",
        "\n",
        "We use the first method because normalization is good to use when you know that the distribution of your data does not follow a Gaussian distribution. And as we saw in the first section, it doesn not.\n"
      ]
    },
    {
      "cell_type": "code",
      "metadata": {
        "id": "1t4ygXpB6L_5"
      },
      "source": [
        "from sklearn.preprocessing import MinMaxScaler\n",
        "from sklearn.preprocessing import StandardScaler\n",
        "\n",
        "def preprocess():\n",
        "  '''Performs the necessary preprocessing of data'''\n",
        "  df_train = load_data()\n",
        "  df_train.drop(['Id'], axis = 1, inplace=True)\n",
        "  df_test = load_data(train = False)\n",
        "  df_test.drop(['Unnamed: 0' , 'Id'], axis = 1, inplace=True)\n",
        "  df_train  = encoding(df_train)\n",
        "  df_test = encoding(df_test)\n",
        "\n",
        "  y_train = df_train.loc[:, 'SalePrice']\n",
        "  X_train = df_train.drop(columns=['SalePrice'])\n",
        "  print(X_train.columns)\n",
        "\n",
        "  y_test = df_test.loc[:, 'SalePrice']\n",
        "  x_test = df_test.drop(columns=['SalePrice'])\n",
        "  #print(X_train.shape, y_train.shape)\n",
        "  #print(X_test.shape, y_test.shape)\n",
        "  \n",
        "  scaler = MinMaxScaler() \n",
        "  #scaler = StandardScaler()\n",
        "  scaler.fit(X_train) # scalling the features (x_train)\n",
        "  X_train = scaler.transform(X_train)\n",
        "  x_test = scaler.transform(x_test)\n",
        "  return X_train, x_test , y_train, y_test"
      ],
      "execution_count": null,
      "outputs": []
    },
    {
      "cell_type": "markdown",
      "metadata": {
        "id": "DDZaOoBf-8_D"
      },
      "source": [
        "# **3. Model Training**\n",
        "In this section we first train the model, which is learning (determining) good values for all the weights and the bias from samples. In supervised learning, a machine learning algorithm builds a model by examining many examples and attempting to find a model that minimizes loss. Since this is supervised learning we try different models and train them on our dataset, we then use the test dataset to calculate the **RMSE(Root Mean Square Error)** and compare different regression models in terms of accuracy.\n",
        "\n",
        "  $RMSE=\\sqrt{\\frac{\\sum\\limits _{i=1}^{n}( y_{i} -\\overline{y})^{2}}{n}}$"
      ]
    },
    {
      "cell_type": "code",
      "metadata": {
        "id": "DMhwpuKcYt5r"
      },
      "source": [
        "from sklearn.metrics import mean_squared_error\n",
        "def get_model_acc(model, test_x, test_y):\n",
        "  '''Returns the RMSE of the model'''\n",
        "  y_pred = model.predict(test_x)\n",
        "  return mean_squared_error(test_y, y_pred)"
      ],
      "execution_count": null,
      "outputs": []
    },
    {
      "cell_type": "markdown",
      "metadata": {
        "id": "UnfTXP0NOp0G"
      },
      "source": [
        "####**Description of each model:**\n",
        "\n",
        "1. **Linear Regression:** Linear regression is a linear model, that assumes a linear relationship between the input variables and the single output variable. And that output can be calculated from a linear combination of the input variables.\n",
        "\n",
        "2. **Decision Tree Regression:** Decision tree builds regression or classification models in the form of a tree structure. It breaks down a dataset into smaller and smaller subsets while at the same time an associated decision tree is incrementally developed. The final result is a tree with decision nodes and leaf nodes. A decision node has two or more branches, each representing values for the attribute tested. Leaf node represents a decision on the numerical target. The topmost decision node in a tree which corresponds to the best predictor called root node. Decision trees can handle both categorical and numerical data. \t\n",
        "\n",
        "3. **Random Forest Regression:** Random forest is a type of supervised learning algorithm that uses ensemble methods (bagging) to solve both regression and classification problems. The algorithm operates by constructing a multitude of decision trees at training time and outputting the mean/mode of prediction of the individual trees.\n",
        "\n",
        "\n",
        "4. **Support Vector Machine (SVM):** SVM or Support Vector Machine is a linear model for classification and regression problems. It can solve linear and non-linear problems and work well for many practical problems. The idea of SVM is simple: The algorithm creates a line or a hyperplane which separates the data into classes.\n",
        "\n",
        "5. **Extreme Gradient Boost Regression (XGBoost):** Gradient boosting refers to a class of ensemble machine learning algorithms that can be used for classification or regression predictive modeling problems. Ensembles are constructed from decision tree models. Trees are added one at a time to the ensemble and fit to correct the prediction errors made by prior models. This is a type of ensemble machine learning model referred to as boosting. Models are fit using any arbitrary differentiable loss function and gradient descent optimization algorithm. This gives the technique its name, “gradient boosting,” as the loss gradient is minimized as the model is fit, much like a neural network.\n",
        "\n",
        "\n",
        "\n",
        "\n"
      ]
    },
    {
      "cell_type": "markdown",
      "metadata": {
        "id": "UNyV1V7ozYfT"
      },
      "source": [
        "####**Model selection:**"
      ]
    },
    {
      "cell_type": "code",
      "metadata": {
        "id": "CBUDYohCgcdR",
        "colab": {
          "base_uri": "https://localhost:8080/",
          "height": 298
        },
        "outputId": "3d2dc280-d80d-4a2f-b4d8-ee32cb4245db"
      },
      "source": [
        "from sklearn.linear_model import LinearRegression\n",
        "from sklearn.tree import DecisionTreeRegressor\n",
        "from sklearn.ensemble import RandomForestRegressor\n",
        "from sklearn.svm import SVR\n",
        "import xgboost as xgb\n",
        "\n",
        "X_train, x_test , y_train, y_test = preprocess()\n",
        "lin_reg = LinearRegression()\n",
        "tree_reg = DecisionTreeRegressor(random_state=42)\n",
        "forest_reg = RandomForestRegressor(n_estimators=100, random_state=42)\n",
        "svm_reg = SVR(kernel=\"linear\")\n",
        "xgboost = xgb.XGBRegressor(objective='reg:squarederror')\n",
        "rmse = []\n",
        "dic = {\"LinearRegression\":lin_reg, \"DecisionTreeRegressor\":tree_reg ,\"RandomForestRegressor\":forest_reg ,\"SVM\": svm_reg, \"XGBRegressor\": xgboost}\n",
        "for k,v in dic.items():\n",
        " # print (k,v)\n",
        "  model = v\n",
        "  model.fit(X_train, y_train)\n",
        "  display(Markdown(\"**Root mean square error using: {}**\".format(k)))\n",
        "  print(math.sqrt(get_model_acc(model, x_test, y_test)))"
      ],
      "execution_count": null,
      "outputs": [
        {
          "output_type": "stream",
          "text": [
            "Index(['C (all)', 'FV', 'RH', 'RL', 'RM', 'Abnorml', 'AdjLand', 'Alloca',\n",
            "       'Family', 'Normal', 'Partial', 'MSSubClass', 'LotArea'],\n",
            "      dtype='object')\n"
          ],
          "name": "stdout"
        },
        {
          "output_type": "display_data",
          "data": {
            "text/markdown": "**Root mean square error using: LinearRegression**",
            "text/plain": [
              "<IPython.core.display.Markdown object>"
            ]
          },
          "metadata": {
            "tags": []
          }
        },
        {
          "output_type": "stream",
          "text": [
            "67006.41302171494\n"
          ],
          "name": "stdout"
        },
        {
          "output_type": "display_data",
          "data": {
            "text/markdown": "**Root mean square error using: DecisionTreeRegressor**",
            "text/plain": [
              "<IPython.core.display.Markdown object>"
            ]
          },
          "metadata": {
            "tags": []
          }
        },
        {
          "output_type": "stream",
          "text": [
            "9650.22344618717\n"
          ],
          "name": "stdout"
        },
        {
          "output_type": "display_data",
          "data": {
            "text/markdown": "**Root mean square error using: RandomForestRegressor**",
            "text/plain": [
              "<IPython.core.display.Markdown object>"
            ]
          },
          "metadata": {
            "tags": []
          }
        },
        {
          "output_type": "stream",
          "text": [
            "27112.895606234197\n"
          ],
          "name": "stdout"
        },
        {
          "output_type": "display_data",
          "data": {
            "text/markdown": "**Root mean square error using: SVM**",
            "text/plain": [
              "<IPython.core.display.Markdown object>"
            ]
          },
          "metadata": {
            "tags": []
          }
        },
        {
          "output_type": "stream",
          "text": [
            "81636.07528974858\n"
          ],
          "name": "stdout"
        },
        {
          "output_type": "display_data",
          "data": {
            "text/markdown": "**Root mean square error using: XGBRegressor**",
            "text/plain": [
              "<IPython.core.display.Markdown object>"
            ]
          },
          "metadata": {
            "tags": []
          }
        },
        {
          "output_type": "stream",
          "text": [
            "51496.973227996416\n"
          ],
          "name": "stdout"
        }
      ]
    },
    {
      "cell_type": "markdown",
      "metadata": {
        "id": "9KL8pqroj3WX"
      },
      "source": [
        "> **Decision Tree Regressor** is the best model with the root mean square error of $9650.22344618717$."
      ]
    },
    {
      "cell_type": "markdown",
      "metadata": {
        "id": "J7xQbQlv_MLK"
      },
      "source": [
        "## 3.1. Predictions\n",
        "We use the best model we found which was **Decision Tree Regressor** on the test dataset to predict the house price according to the features."
      ]
    },
    {
      "cell_type": "code",
      "metadata": {
        "id": "rIhHdgoqkNbQ",
        "colab": {
          "base_uri": "https://localhost:8080/",
          "height": 369
        },
        "outputId": "fdb59ee9-0072-49d2-cd11-2deede1738aa"
      },
      "source": [
        "tree_reg = DecisionTreeRegressor(random_state=42)\n",
        "X_train, x_test , y_train, y_test = preprocess()\n",
        "tree_reg.fit(X_train, y_train)\n",
        "acc = get_model_acc(tree_reg, x_test, y_test)\n",
        "display(Markdown(\"**Root mean square error using Decision Tree Regressor:**\"))\n",
        "print(math.sqrt(acc))\n",
        "y_pred = model.predict(x_test)\n",
        "y_pred.tolist()\n",
        "print(type(y_test))\n",
        "y_test = y_test.to_frame()\n",
        "y_test.drop(\"SalePrice\", axis =1, inplace = True)\n",
        "y_test[\"predicted_SalePrice\"] = y_pred.tolist()\n",
        "print(y_test)\n",
        "\n",
        "# Saving the predictions as csv file\n",
        "y_test.to_csv('prediction_results.csv')\n"
      ],
      "execution_count": null,
      "outputs": [
        {
          "output_type": "stream",
          "text": [
            "Index(['C (all)', 'FV', 'RH', 'RL', 'RM', 'Abnorml', 'AdjLand', 'Alloca',\n",
            "       'Family', 'Normal', 'Partial', 'MSSubClass', 'LotArea'],\n",
            "      dtype='object')\n"
          ],
          "name": "stdout"
        },
        {
          "output_type": "display_data",
          "data": {
            "text/markdown": "**Root mean square error using Decision Tree Regressor:**",
            "text/plain": [
              "<IPython.core.display.Markdown object>"
            ]
          },
          "metadata": {
            "tags": []
          }
        },
        {
          "output_type": "stream",
          "text": [
            "9650.22344618717\n",
            "<class 'pandas.core.series.Series'>\n",
            "     predicted_SalePrice\n",
            "0          107725.234375\n",
            "1          163639.421875\n",
            "2          144429.468750\n",
            "3           93584.406250\n",
            "4          211799.406250\n",
            "..                   ...\n",
            "186        327817.031250\n",
            "187        250643.796875\n",
            "188        124053.000000\n",
            "189         92171.234375\n",
            "190        118837.882812\n",
            "\n",
            "[191 rows x 1 columns]\n"
          ],
          "name": "stdout"
        }
      ]
    },
    {
      "cell_type": "markdown",
      "metadata": {
        "id": "Lh9-woPw0hue"
      },
      "source": [
        "> *tree_reg* is the trained model that we use to make predictions. We can save this model (as well as the scaler) to use in the future to make predictions for new data points. If we call the model it displays all the model parameters (see below) which are the default values here. These parameters can be tuned via **hyperparameter tuning**, however we did not tuned the model as we achieved the desired accuracy."
      ]
    },
    {
      "cell_type": "code",
      "metadata": {
        "id": "cvwpkyWE0YUr",
        "colab": {
          "base_uri": "https://localhost:8080/"
        },
        "outputId": "3eb4ff62-e4d8-41ef-fafe-9e804f9924e7"
      },
      "source": [
        "tree_reg\n"
      ],
      "execution_count": null,
      "outputs": [
        {
          "output_type": "execute_result",
          "data": {
            "text/plain": [
              "DecisionTreeRegressor(ccp_alpha=0.0, criterion='mse', max_depth=None,\n",
              "                      max_features=None, max_leaf_nodes=None,\n",
              "                      min_impurity_decrease=0.0, min_impurity_split=None,\n",
              "                      min_samples_leaf=1, min_samples_split=2,\n",
              "                      min_weight_fraction_leaf=0.0, presort='deprecated',\n",
              "                      random_state=42, splitter='best')"
            ]
          },
          "metadata": {
            "tags": []
          },
          "execution_count": 21
        }
      ]
    },
    {
      "cell_type": "markdown",
      "metadata": {
        "id": "RmeG0STAzlTK"
      },
      "source": [
        "####**Feature importance:**\n",
        "We can determine the predictive power of each variable in the model with feature importance function.\n",
        "\n",
        "Below is the ranked list of the features along with their feature importance. "
      ]
    },
    {
      "cell_type": "code",
      "metadata": {
        "id": "nNEi_7lwyx4m",
        "colab": {
          "base_uri": "https://localhost:8080/",
          "height": 499
        },
        "outputId": "8fd91010-000d-48eb-fa03-facb0570d4de"
      },
      "source": [
        "feat_import = tree_reg.feature_importances_\n",
        "f = ('C (all)', 'FV', 'RH', 'RL', 'RM', 'Abnorml', 'AdjLand', 'Alloca','Family', 'Normal', 'Partial', 'MSSubClass', 'LotArea')\n",
        "z = list(zip(f ,feat_import))\n",
        "\n",
        "res = sorted(z, key = lambda x: x[1],reverse=True)\n",
        "\n",
        "display(Markdown(\"###**Feature  , Feature Importance**\"))\n",
        "for item in res:\n",
        "  print(item, \"\\n\")\n"
      ],
      "execution_count": null,
      "outputs": [
        {
          "output_type": "display_data",
          "data": {
            "text/markdown": "###**Feature  , Feature Importance**",
            "text/plain": [
              "<IPython.core.display.Markdown object>"
            ]
          },
          "metadata": {
            "tags": []
          }
        },
        {
          "output_type": "stream",
          "text": [
            "('LotArea', 0.6756216315600458) \n",
            "\n",
            "('MSSubClass', 0.14991083290963222) \n",
            "\n",
            "('Partial', 0.10343324235089287) \n",
            "\n",
            "('RM', 0.036733403529597565) \n",
            "\n",
            "('Normal', 0.007743981208980061) \n",
            "\n",
            "('FV', 0.007021055676174267) \n",
            "\n",
            "('RL', 0.00606041524995017) \n",
            "\n",
            "('Abnorml', 0.005334769645430208) \n",
            "\n",
            "('C (all)', 0.0031320156647837985) \n",
            "\n",
            "('Alloca', 0.0027393604835920736) \n",
            "\n",
            "('RH', 0.0012656652456041757) \n",
            "\n",
            "('Family', 0.0008053213605600957) \n",
            "\n",
            "('AdjLand', 0.0001983051147567593) \n",
            "\n"
          ],
          "name": "stdout"
        }
      ]
    },
    {
      "cell_type": "markdown",
      "metadata": {
        "id": "utzeCNuDhSp0"
      },
      "source": [
        "> We can see that **LotArea** has the most predictive power in the model, following with **MSSubClass** and other variables.\n",
        "\n",
        "> We should note that although the MSSubClass had a low correlation with $y$ variable, it comes second in the feature importance list, proving that it was a good call to keep the variable and not drop it in the preprocessing step.\n",
        "\n"
      ]
    },
    {
      "cell_type": "markdown",
      "metadata": {
        "id": "qr2l8KpS5nfG"
      },
      "source": [
        "## 3.2. Conclusion\n",
        "Different datasets require different data preprocessing and modeling. \n",
        "\n",
        "For this problem's dataset we can sort the different regression models according to their accuracy using RMSE:\n",
        "\n",
        "1.   Decision Tree Regressor ***(Best)***\n",
        "2.   Random Forest Regressor\n",
        "3.   XGB Regressor\n",
        "4. LinearRegression\n",
        "5. SVM ***(Worst)***\n",
        "\n",
        "Also using the feature importance method, we understood that **LotArea** and **MSSubClass** are the two most powerful variable for predicting the house sale's price."
      ]
    }
  ]
}